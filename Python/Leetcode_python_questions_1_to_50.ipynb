{
  "nbformat": 4,
  "nbformat_minor": 0,
  "metadata": {
    "colab": {
      "name": "Leetcode_python questions_1 to 50.ipynb",
      "provenance": [],
      "collapsed_sections": [],
      "authorship_tag": "ABX9TyN481p8SgHctyYKqSdjbOYp",
      "include_colab_link": true
    },
    "kernelspec": {
      "name": "python3",
      "display_name": "Python 3"
    }
  },
  "cells": [
    {
      "cell_type": "markdown",
      "metadata": {
        "id": "view-in-github",
        "colab_type": "text"
      },
      "source": [
        "<a href=\"https://colab.research.google.com/github/tanaymukherjee/A-B-Testing-in-R/blob/master/Python/Leetcode_python_questions_1_to_50.ipynb\" target=\"_parent\"><img src=\"https://colab.research.google.com/assets/colab-badge.svg\" alt=\"Open In Colab\"/></a>"
      ]
    },
    {
      "cell_type": "markdown",
      "metadata": {
        "id": "ULUp7Q5nZV1B"
      },
      "source": [
        "# Leetcode Problems"
      ]
    },
    {
      "cell_type": "markdown",
      "metadata": {
        "id": "o1kYO-fxZZwV"
      },
      "source": [
        "## Que - 1. Two Sum"
      ]
    },
    {
      "cell_type": "markdown",
      "metadata": {
        "id": "uhCO65HeZUas"
      },
      "source": [
        "Given an array of integers nums and an integer target, return indices of the two numbers such that they add up to target.\r\n",
        "\r\n",
        "You may assume that each input would have exactly one solution, and you may not use the same element twice.\r\n",
        "\r\n",
        "You can return the answer in any order."
      ]
    },
    {
      "cell_type": "markdown",
      "metadata": {
        "id": "tbutAU8UZeMQ"
      },
      "source": [
        "```\r\n",
        "Example 1:\r\n",
        "\r\n",
        "Input: nums = [2,7,11,15], target = 9\r\n",
        "Output: [0,1]\r\n",
        "Output: Because nums[0] + nums[1] == 9, we return [0, 1].\r\n",
        "Example 2:\r\n",
        "\r\n",
        "Input: nums = [3,2,4], target = 6\r\n",
        "Output: [1,2]\r\n",
        "Example 3:\r\n",
        "\r\n",
        "Input: nums = [3,3], target = 6\r\n",
        "Output: [0,1]\r\n",
        "\r\n",
        "Constraints:\r\n",
        "\r\n",
        "2 <= nums.length <= 103\r\n",
        "-109 <= nums[i] <= 109\r\n",
        "-109 <= target <= 109\r\n",
        "Only one valid answer exists.\r\n",
        "```"
      ]
    },
    {
      "cell_type": "code",
      "metadata": {
        "id": "NQnbdnPtYdZV"
      },
      "source": [
        "def twoSum(nums, target):\r\n",
        "    nums_hash = {}\r\n",
        "    for i in range(len(nums)):\r\n",
        "        if target - nums[i] in nums_hash: \r\n",
        "            return (nums_hash[target - nums[i]], i)\r\n",
        "        nums_hash[nums[i]] = i"
      ],
      "execution_count": 34,
      "outputs": []
    },
    {
      "cell_type": "code",
      "metadata": {
        "colab": {
          "base_uri": "https://localhost:8080/"
        },
        "id": "GmuqdMaXZm-Y",
        "outputId": "39ad44d4-d426-4a29-9a4b-05cbafae13c3"
      },
      "source": [
        "twoSum([2,7,11,15],9)"
      ],
      "execution_count": 35,
      "outputs": [
        {
          "output_type": "execute_result",
          "data": {
            "text/plain": [
              "(0, 1)"
            ]
          },
          "metadata": {
            "tags": []
          },
          "execution_count": 35
        }
      ]
    },
    {
      "cell_type": "code",
      "metadata": {
        "colab": {
          "base_uri": "https://localhost:8080/"
        },
        "id": "yQSZ6WhvZ_Mo",
        "outputId": "1505977d-6f50-4593-b77b-1f96a93658f7"
      },
      "source": [
        "twoSum([2,7,8,4],12)"
      ],
      "execution_count": 36,
      "outputs": [
        {
          "output_type": "execute_result",
          "data": {
            "text/plain": [
              "(2, 3)"
            ]
          },
          "metadata": {
            "tags": []
          },
          "execution_count": 36
        }
      ]
    },
    {
      "cell_type": "code",
      "metadata": {
        "colab": {
          "base_uri": "https://localhost:8080/"
        },
        "id": "8ijJ48xLZpyf",
        "outputId": "75e43a10-be5a-4d1a-fe68-c47044f197c7"
      },
      "source": [
        "twoSum([3,3],6)"
      ],
      "execution_count": 37,
      "outputs": [
        {
          "output_type": "execute_result",
          "data": {
            "text/plain": [
              "(0, 1)"
            ]
          },
          "metadata": {
            "tags": []
          },
          "execution_count": 37
        }
      ]
    },
    {
      "cell_type": "code",
      "metadata": {
        "id": "afqzXEjFZt-n"
      },
      "source": [
        "twoSum([4,3,2],9)"
      ],
      "execution_count": 38,
      "outputs": []
    },
    {
      "cell_type": "markdown",
      "metadata": {
        "id": "LZpnTB8cmWc5"
      },
      "source": [
        "## Que - 3. Longest Substring Without Repeating Characters"
      ]
    },
    {
      "cell_type": "markdown",
      "metadata": {
        "id": "KzhAv0yfqUbC"
      },
      "source": [
        "Given a string s, find the length of the longest substring without repeating characters."
      ]
    },
    {
      "cell_type": "markdown",
      "metadata": {
        "id": "PoiVKkfTqYOg"
      },
      "source": [
        ""
      ]
    },
    {
      "cell_type": "markdown",
      "metadata": {
        "id": "rTofhXtYqWEg"
      },
      "source": [
        "```\r\n",
        "Example 1:\r\n",
        "\r\n",
        "Input: s = \"abcabcbb\"\r\n",
        "Output: 3\r\n",
        "Explanation: The answer is \"abc\", with the length of 3.\r\n",
        "Example 2:\r\n",
        "\r\n",
        "Input: s = \"bbbbb\"\r\n",
        "Output: 1\r\n",
        "Explanation: The answer is \"b\", with the length of 1.\r\n",
        "Example 3:\r\n",
        "\r\n",
        "Input: s = \"pwwkew\"\r\n",
        "Output: 3\r\n",
        "Explanation: The answer is \"wke\", with the length of 3.\r\n",
        "Notice that the answer must be a substring, \"pwke\" is a subsequence and not a substring.\r\n",
        "Example 4:\r\n",
        "\r\n",
        "Input: s = \"\"\r\n",
        "Output: 0\r\n",
        " \r\n",
        "\r\n",
        "Constraints:\r\n",
        "\r\n",
        "0 <= s.length <= 5 * 104\r\n",
        "s consists of English letters, digits, symbols and spaces.\r\n",
        "```"
      ]
    },
    {
      "cell_type": "code",
      "metadata": {
        "id": "YYRVwaLimV2J"
      },
      "source": [
        "def lengthOfLongestSubstring(s):\r\n",
        "   mx, start, chars = 0, 0, {}\r\n",
        "   for i in range(len(s)):\r\n",
        "       if s[i] in chars and start <= chars[s[i]]: start = chars[s[i]] + 1\r\n",
        "       else: mx = max(mx, i - start + 1)\r\n",
        "       chars[s[i]] = i\r\n",
        "   return mx"
      ],
      "execution_count": 41,
      "outputs": []
    },
    {
      "cell_type": "code",
      "metadata": {
        "colab": {
          "base_uri": "https://localhost:8080/"
        },
        "id": "e9TezbhOqeeJ",
        "outputId": "a5b3c063-4ea4-4169-ac1a-ff844339d7d2"
      },
      "source": [
        "lengthOfLongestSubstring(\"pwwkew\")"
      ],
      "execution_count": 42,
      "outputs": [
        {
          "output_type": "execute_result",
          "data": {
            "text/plain": [
              "3"
            ]
          },
          "metadata": {
            "tags": []
          },
          "execution_count": 42
        }
      ]
    },
    {
      "cell_type": "markdown",
      "metadata": {
        "id": "L--uS7TcsRuH"
      },
      "source": [
        "Que - 4. Median of Two Sorted Arrays"
      ]
    },
    {
      "cell_type": "markdown",
      "metadata": {
        "id": "o6w6DwCfsU2X"
      },
      "source": [
        "Given two sorted arrays nums1 and nums2 of size m and n respectively, return the median of the two sorted arrays."
      ]
    },
    {
      "cell_type": "markdown",
      "metadata": {
        "id": "Og_DAngRsZKm"
      },
      "source": [
        "```\r\n",
        "Example 1:\r\n",
        "\r\n",
        "Input: nums1 = [1,3], nums2 = [2]\r\n",
        "Output: 2.00000\r\n",
        "Explanation: merged array = [1,2,3] and median is 2.\r\n",
        "Example 2:\r\n",
        "\r\n",
        "Input: nums1 = [1,2], nums2 = [3,4]\r\n",
        "Output: 2.50000\r\n",
        "Explanation: merged array = [1,2,3,4] and median is (2 + 3) / 2 = 2.5.\r\n",
        "Example 3:\r\n",
        "\r\n",
        "Input: nums1 = [0,0], nums2 = [0,0]\r\n",
        "Output: 0.00000\r\n",
        "Example 4:\r\n",
        "\r\n",
        "Input: nums1 = [], nums2 = [1]\r\n",
        "Output: 1.00000\r\n",
        "Example 5:\r\n",
        "\r\n",
        "Input: nums1 = [2], nums2 = []\r\n",
        "Output: 2.00000\r\n",
        "\r\n",
        "Constraints:\r\n",
        "\r\n",
        "nums1.length == m\r\n",
        "nums2.length == n\r\n",
        "0 <= m <= 1000\r\n",
        "0 <= n <= 1000\r\n",
        "1 <= m + n <= 2000\r\n",
        "-106 <= nums1[i], nums2[i] <= 106\r\n",
        " \r\n",
        "\r\n",
        "Follow up: The overall run time complexity should be O(log (m+n)).\r\n",
        "```"
      ]
    },
    {
      "cell_type": "code",
      "metadata": {
        "id": "JuWykCdpsWyI"
      },
      "source": [
        "def findMedianSortedArrays(nums1, nums2):\r\n",
        "   arr = sorted(nums1 + nums2)\r\n",
        "   if len(arr) % 2 == 0: return (arr[len(arr) // 2] + arr[len(arr) // 2 - 1]) / 2\r\n",
        "   else: return arr[len(arr) // 2]"
      ],
      "execution_count": 43,
      "outputs": []
    },
    {
      "cell_type": "code",
      "metadata": {
        "colab": {
          "base_uri": "https://localhost:8080/"
        },
        "id": "WLLwoYoQsRaB",
        "outputId": "b9f912b4-a3da-4d32-b56a-e08e21c540be"
      },
      "source": [
        "findMedianSortedArrays([1,3],[2])"
      ],
      "execution_count": 44,
      "outputs": [
        {
          "output_type": "execute_result",
          "data": {
            "text/plain": [
              "2"
            ]
          },
          "metadata": {
            "tags": []
          },
          "execution_count": 44
        }
      ]
    },
    {
      "cell_type": "code",
      "metadata": {
        "colab": {
          "base_uri": "https://localhost:8080/"
        },
        "id": "9VqrCqJXs-V5",
        "outputId": "7d4837c2-ff3a-4150-ef69-7ec4f0fc3374"
      },
      "source": [
        "nums1 = [1,2]\r\n",
        "nums2 = [3,4]\r\n",
        "\r\n",
        "findMedianSortedArrays(nums1, nums2)"
      ],
      "execution_count": 45,
      "outputs": [
        {
          "output_type": "execute_result",
          "data": {
            "text/plain": [
              "2.5"
            ]
          },
          "metadata": {
            "tags": []
          },
          "execution_count": 45
        }
      ]
    },
    {
      "cell_type": "code",
      "metadata": {
        "id": "nfTDLsvHs55Y"
      },
      "source": [
        ""
      ],
      "execution_count": null,
      "outputs": []
    }
  ]
}